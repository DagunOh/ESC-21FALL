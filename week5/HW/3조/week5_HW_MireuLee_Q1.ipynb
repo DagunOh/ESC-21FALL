{
  "nbformat": 4,
  "nbformat_minor": 0,
  "metadata": {
    "colab": {
      "name": "week5_HW_MireuLee.ipynb",
      "provenance": [],
      "collapsed_sections": []
    },
    "kernelspec": {
      "name": "python3",
      "display_name": "Python 3"
    },
    "language_info": {
      "name": "python"
    }
  },
  "cells": [
    {
      "cell_type": "code",
      "metadata": {
        "id": "KiKt2fmL-IRq"
      },
      "source": [
        "import pandas as pd\n",
        "import numpy as np\n",
        "import sys\n",
        "import statistics as st\n",
        "from google.colab import files"
      ],
      "execution_count": 1,
      "outputs": []
    },
    {
      "cell_type": "code",
      "metadata": {
        "colab": {
          "resources": {
            "http://localhost:8080/nbextensions/google.colab/files.js": {
              "data": "Ly8gQ29weXJpZ2h0IDIwMTcgR29vZ2xlIExMQwovLwovLyBMaWNlbnNlZCB1bmRlciB0aGUgQXBhY2hlIExpY2Vuc2UsIFZlcnNpb24gMi4wICh0aGUgIkxpY2Vuc2UiKTsKLy8geW91IG1heSBub3QgdXNlIHRoaXMgZmlsZSBleGNlcHQgaW4gY29tcGxpYW5jZSB3aXRoIHRoZSBMaWNlbnNlLgovLyBZb3UgbWF5IG9idGFpbiBhIGNvcHkgb2YgdGhlIExpY2Vuc2UgYXQKLy8KLy8gICAgICBodHRwOi8vd3d3LmFwYWNoZS5vcmcvbGljZW5zZXMvTElDRU5TRS0yLjAKLy8KLy8gVW5sZXNzIHJlcXVpcmVkIGJ5IGFwcGxpY2FibGUgbGF3IG9yIGFncmVlZCB0byBpbiB3cml0aW5nLCBzb2Z0d2FyZQovLyBkaXN0cmlidXRlZCB1bmRlciB0aGUgTGljZW5zZSBpcyBkaXN0cmlidXRlZCBvbiBhbiAiQVMgSVMiIEJBU0lTLAovLyBXSVRIT1VUIFdBUlJBTlRJRVMgT1IgQ09ORElUSU9OUyBPRiBBTlkgS0lORCwgZWl0aGVyIGV4cHJlc3Mgb3IgaW1wbGllZC4KLy8gU2VlIHRoZSBMaWNlbnNlIGZvciB0aGUgc3BlY2lmaWMgbGFuZ3VhZ2UgZ292ZXJuaW5nIHBlcm1pc3Npb25zIGFuZAovLyBsaW1pdGF0aW9ucyB1bmRlciB0aGUgTGljZW5zZS4KCi8qKgogKiBAZmlsZW92ZXJ2aWV3IEhlbHBlcnMgZm9yIGdvb2dsZS5jb2xhYiBQeXRob24gbW9kdWxlLgogKi8KKGZ1bmN0aW9uKHNjb3BlKSB7CmZ1bmN0aW9uIHNwYW4odGV4dCwgc3R5bGVBdHRyaWJ1dGVzID0ge30pIHsKICBjb25zdCBlbGVtZW50ID0gZG9jdW1lbnQuY3JlYXRlRWxlbWVudCgnc3BhbicpOwogIGVsZW1lbnQudGV4dENvbnRlbnQgPSB0ZXh0OwogIGZvciAoY29uc3Qga2V5IG9mIE9iamVjdC5rZXlzKHN0eWxlQXR0cmlidXRlcykpIHsKICAgIGVsZW1lbnQuc3R5bGVba2V5XSA9IHN0eWxlQXR0cmlidXRlc1trZXldOwogIH0KICByZXR1cm4gZWxlbWVudDsKfQoKLy8gTWF4IG51bWJlciBvZiBieXRlcyB3aGljaCB3aWxsIGJlIHVwbG9hZGVkIGF0IGEgdGltZS4KY29uc3QgTUFYX1BBWUxPQURfU0laRSA9IDEwMCAqIDEwMjQ7CgpmdW5jdGlvbiBfdXBsb2FkRmlsZXMoaW5wdXRJZCwgb3V0cHV0SWQpIHsKICBjb25zdCBzdGVwcyA9IHVwbG9hZEZpbGVzU3RlcChpbnB1dElkLCBvdXRwdXRJZCk7CiAgY29uc3Qgb3V0cHV0RWxlbWVudCA9IGRvY3VtZW50LmdldEVsZW1lbnRCeUlkKG91dHB1dElkKTsKICAvLyBDYWNoZSBzdGVwcyBvbiB0aGUgb3V0cHV0RWxlbWVudCB0byBtYWtlIGl0IGF2YWlsYWJsZSBmb3IgdGhlIG5leHQgY2FsbAogIC8vIHRvIHVwbG9hZEZpbGVzQ29udGludWUgZnJvbSBQeXRob24uCiAgb3V0cHV0RWxlbWVudC5zdGVwcyA9IHN0ZXBzOwoKICByZXR1cm4gX3VwbG9hZEZpbGVzQ29udGludWUob3V0cHV0SWQpOwp9CgovLyBUaGlzIGlzIHJvdWdobHkgYW4gYXN5bmMgZ2VuZXJhdG9yIChub3Qgc3VwcG9ydGVkIGluIHRoZSBicm93c2VyIHlldCksCi8vIHdoZXJlIHRoZXJlIGFyZSBtdWx0aXBsZSBhc3luY2hyb25vdXMgc3RlcHMgYW5kIHRoZSBQeXRob24gc2lkZSBpcyBnb2luZwovLyB0byBwb2xsIGZvciBjb21wbGV0aW9uIG9mIGVhY2ggc3RlcC4KLy8gVGhpcyB1c2VzIGEgUHJvbWlzZSB0byBibG9jayB0aGUgcHl0aG9uIHNpZGUgb24gY29tcGxldGlvbiBvZiBlYWNoIHN0ZXAsCi8vIHRoZW4gcGFzc2VzIHRoZSByZXN1bHQgb2YgdGhlIHByZXZpb3VzIHN0ZXAgYXMgdGhlIGlucHV0IHRvIHRoZSBuZXh0IHN0ZXAuCmZ1bmN0aW9uIF91cGxvYWRGaWxlc0NvbnRpbnVlKG91dHB1dElkKSB7CiAgY29uc3Qgb3V0cHV0RWxlbWVudCA9IGRvY3VtZW50LmdldEVsZW1lbnRCeUlkKG91dHB1dElkKTsKICBjb25zdCBzdGVwcyA9IG91dHB1dEVsZW1lbnQuc3RlcHM7CgogIGNvbnN0IG5leHQgPSBzdGVwcy5uZXh0KG91dHB1dEVsZW1lbnQubGFzdFByb21pc2VWYWx1ZSk7CiAgcmV0dXJuIFByb21pc2UucmVzb2x2ZShuZXh0LnZhbHVlLnByb21pc2UpLnRoZW4oKHZhbHVlKSA9PiB7CiAgICAvLyBDYWNoZSB0aGUgbGFzdCBwcm9taXNlIHZhbHVlIHRvIG1ha2UgaXQgYXZhaWxhYmxlIHRvIHRoZSBuZXh0CiAgICAvLyBzdGVwIG9mIHRoZSBnZW5lcmF0b3IuCiAgICBvdXRwdXRFbGVtZW50Lmxhc3RQcm9taXNlVmFsdWUgPSB2YWx1ZTsKICAgIHJldHVybiBuZXh0LnZhbHVlLnJlc3BvbnNlOwogIH0pOwp9CgovKioKICogR2VuZXJhdG9yIGZ1bmN0aW9uIHdoaWNoIGlzIGNhbGxlZCBiZXR3ZWVuIGVhY2ggYXN5bmMgc3RlcCBvZiB0aGUgdXBsb2FkCiAqIHByb2Nlc3MuCiAqIEBwYXJhbSB7c3RyaW5nfSBpbnB1dElkIEVsZW1lbnQgSUQgb2YgdGhlIGlucHV0IGZpbGUgcGlja2VyIGVsZW1lbnQuCiAqIEBwYXJhbSB7c3RyaW5nfSBvdXRwdXRJZCBFbGVtZW50IElEIG9mIHRoZSBvdXRwdXQgZGlzcGxheS4KICogQHJldHVybiB7IUl0ZXJhYmxlPCFPYmplY3Q+fSBJdGVyYWJsZSBvZiBuZXh0IHN0ZXBzLgogKi8KZnVuY3Rpb24qIHVwbG9hZEZpbGVzU3RlcChpbnB1dElkLCBvdXRwdXRJZCkgewogIGNvbnN0IGlucHV0RWxlbWVudCA9IGRvY3VtZW50LmdldEVsZW1lbnRCeUlkKGlucHV0SWQpOwogIGlucHV0RWxlbWVudC5kaXNhYmxlZCA9IGZhbHNlOwoKICBjb25zdCBvdXRwdXRFbGVtZW50ID0gZG9jdW1lbnQuZ2V0RWxlbWVudEJ5SWQob3V0cHV0SWQpOwogIG91dHB1dEVsZW1lbnQuaW5uZXJIVE1MID0gJyc7CgogIGNvbnN0IHBpY2tlZFByb21pc2UgPSBuZXcgUHJvbWlzZSgocmVzb2x2ZSkgPT4gewogICAgaW5wdXRFbGVtZW50LmFkZEV2ZW50TGlzdGVuZXIoJ2NoYW5nZScsIChlKSA9PiB7CiAgICAgIHJlc29sdmUoZS50YXJnZXQuZmlsZXMpOwogICAgfSk7CiAgfSk7CgogIGNvbnN0IGNhbmNlbCA9IGRvY3VtZW50LmNyZWF0ZUVsZW1lbnQoJ2J1dHRvbicpOwogIGlucHV0RWxlbWVudC5wYXJlbnRFbGVtZW50LmFwcGVuZENoaWxkKGNhbmNlbCk7CiAgY2FuY2VsLnRleHRDb250ZW50ID0gJ0NhbmNlbCB1cGxvYWQnOwogIGNvbnN0IGNhbmNlbFByb21pc2UgPSBuZXcgUHJvbWlzZSgocmVzb2x2ZSkgPT4gewogICAgY2FuY2VsLm9uY2xpY2sgPSAoKSA9PiB7CiAgICAgIHJlc29sdmUobnVsbCk7CiAgICB9OwogIH0pOwoKICAvLyBXYWl0IGZvciB0aGUgdXNlciB0byBwaWNrIHRoZSBmaWxlcy4KICBjb25zdCBmaWxlcyA9IHlpZWxkIHsKICAgIHByb21pc2U6IFByb21pc2UucmFjZShbcGlja2VkUHJvbWlzZSwgY2FuY2VsUHJvbWlzZV0pLAogICAgcmVzcG9uc2U6IHsKICAgICAgYWN0aW9uOiAnc3RhcnRpbmcnLAogICAgfQogIH07CgogIGNhbmNlbC5yZW1vdmUoKTsKCiAgLy8gRGlzYWJsZSB0aGUgaW5wdXQgZWxlbWVudCBzaW5jZSBmdXJ0aGVyIHBpY2tzIGFyZSBub3QgYWxsb3dlZC4KICBpbnB1dEVsZW1lbnQuZGlzYWJsZWQgPSB0cnVlOwoKICBpZiAoIWZpbGVzKSB7CiAgICByZXR1cm4gewogICAgICByZXNwb25zZTogewogICAgICAgIGFjdGlvbjogJ2NvbXBsZXRlJywKICAgICAgfQogICAgfTsKICB9CgogIGZvciAoY29uc3QgZmlsZSBvZiBmaWxlcykgewogICAgY29uc3QgbGkgPSBkb2N1bWVudC5jcmVhdGVFbGVtZW50KCdsaScpOwogICAgbGkuYXBwZW5kKHNwYW4oZmlsZS5uYW1lLCB7Zm9udFdlaWdodDogJ2JvbGQnfSkpOwogICAgbGkuYXBwZW5kKHNwYW4oCiAgICAgICAgYCgke2ZpbGUudHlwZSB8fCAnbi9hJ30pIC0gJHtmaWxlLnNpemV9IGJ5dGVzLCBgICsKICAgICAgICBgbGFzdCBtb2RpZmllZDogJHsKICAgICAgICAgICAgZmlsZS5sYXN0TW9kaWZpZWREYXRlID8gZmlsZS5sYXN0TW9kaWZpZWREYXRlLnRvTG9jYWxlRGF0ZVN0cmluZygpIDoKICAgICAgICAgICAgICAgICAgICAgICAgICAgICAgICAgICAgJ24vYSd9IC0gYCkpOwogICAgY29uc3QgcGVyY2VudCA9IHNwYW4oJzAlIGRvbmUnKTsKICAgIGxpLmFwcGVuZENoaWxkKHBlcmNlbnQpOwoKICAgIG91dHB1dEVsZW1lbnQuYXBwZW5kQ2hpbGQobGkpOwoKICAgIGNvbnN0IGZpbGVEYXRhUHJvbWlzZSA9IG5ldyBQcm9taXNlKChyZXNvbHZlKSA9PiB7CiAgICAgIGNvbnN0IHJlYWRlciA9IG5ldyBGaWxlUmVhZGVyKCk7CiAgICAgIHJlYWRlci5vbmxvYWQgPSAoZSkgPT4gewogICAgICAgIHJlc29sdmUoZS50YXJnZXQucmVzdWx0KTsKICAgICAgfTsKICAgICAgcmVhZGVyLnJlYWRBc0FycmF5QnVmZmVyKGZpbGUpOwogICAgfSk7CiAgICAvLyBXYWl0IGZvciB0aGUgZGF0YSB0byBiZSByZWFkeS4KICAgIGxldCBmaWxlRGF0YSA9IHlpZWxkIHsKICAgICAgcHJvbWlzZTogZmlsZURhdGFQcm9taXNlLAogICAgICByZXNwb25zZTogewogICAgICAgIGFjdGlvbjogJ2NvbnRpbnVlJywKICAgICAgfQogICAgfTsKCiAgICAvLyBVc2UgYSBjaHVua2VkIHNlbmRpbmcgdG8gYXZvaWQgbWVzc2FnZSBzaXplIGxpbWl0cy4gU2VlIGIvNjIxMTU2NjAuCiAgICBsZXQgcG9zaXRpb24gPSAwOwogICAgZG8gewogICAgICBjb25zdCBsZW5ndGggPSBNYXRoLm1pbihmaWxlRGF0YS5ieXRlTGVuZ3RoIC0gcG9zaXRpb24sIE1BWF9QQVlMT0FEX1NJWkUpOwogICAgICBjb25zdCBjaHVuayA9IG5ldyBVaW50OEFycmF5KGZpbGVEYXRhLCBwb3NpdGlvbiwgbGVuZ3RoKTsKICAgICAgcG9zaXRpb24gKz0gbGVuZ3RoOwoKICAgICAgY29uc3QgYmFzZTY0ID0gYnRvYShTdHJpbmcuZnJvbUNoYXJDb2RlLmFwcGx5KG51bGwsIGNodW5rKSk7CiAgICAgIHlpZWxkIHsKICAgICAgICByZXNwb25zZTogewogICAgICAgICAgYWN0aW9uOiAnYXBwZW5kJywKICAgICAgICAgIGZpbGU6IGZpbGUubmFtZSwKICAgICAgICAgIGRhdGE6IGJhc2U2NCwKICAgICAgICB9LAogICAgICB9OwoKICAgICAgbGV0IHBlcmNlbnREb25lID0gZmlsZURhdGEuYnl0ZUxlbmd0aCA9PT0gMCA/CiAgICAgICAgICAxMDAgOgogICAgICAgICAgTWF0aC5yb3VuZCgocG9zaXRpb24gLyBmaWxlRGF0YS5ieXRlTGVuZ3RoKSAqIDEwMCk7CiAgICAgIHBlcmNlbnQudGV4dENvbnRlbnQgPSBgJHtwZXJjZW50RG9uZX0lIGRvbmVgOwoKICAgIH0gd2hpbGUgKHBvc2l0aW9uIDwgZmlsZURhdGEuYnl0ZUxlbmd0aCk7CiAgfQoKICAvLyBBbGwgZG9uZS4KICB5aWVsZCB7CiAgICByZXNwb25zZTogewogICAgICBhY3Rpb246ICdjb21wbGV0ZScsCiAgICB9CiAgfTsKfQoKc2NvcGUuZ29vZ2xlID0gc2NvcGUuZ29vZ2xlIHx8IHt9OwpzY29wZS5nb29nbGUuY29sYWIgPSBzY29wZS5nb29nbGUuY29sYWIgfHwge307CnNjb3BlLmdvb2dsZS5jb2xhYi5fZmlsZXMgPSB7CiAgX3VwbG9hZEZpbGVzLAogIF91cGxvYWRGaWxlc0NvbnRpbnVlLAp9Owp9KShzZWxmKTsK",
              "ok": true,
              "headers": [
                [
                  "content-type",
                  "application/javascript"
                ]
              ],
              "status": 200,
              "status_text": ""
            }
          },
          "base_uri": "https://localhost:8080/",
          "height": 171
        },
        "id": "J5F9Xx5l-ldT",
        "outputId": "845f1fa5-97b9-4058-c5cc-335278b4b135"
      },
      "source": [
        "files.upload()"
      ],
      "execution_count": 2,
      "outputs": [
        {
          "output_type": "display_data",
          "data": {
            "text/html": [
              "\n",
              "     <input type=\"file\" id=\"files-226c35cb-01d0-4899-8f87-8b427c82a583\" name=\"files[]\" multiple disabled\n",
              "        style=\"border:none\" />\n",
              "     <output id=\"result-226c35cb-01d0-4899-8f87-8b427c82a583\">\n",
              "      Upload widget is only available when the cell has been executed in the\n",
              "      current browser session. Please rerun this cell to enable.\n",
              "      </output>\n",
              "      <script src=\"/nbextensions/google.colab/files.js\"></script> "
            ],
            "text/plain": [
              "<IPython.core.display.HTML object>"
            ]
          },
          "metadata": {}
        },
        {
          "output_type": "stream",
          "name": "stdout",
          "text": [
            "Saving pid.dat to pid.dat\n",
            "Saving pidtest.dat to pidtest.dat\n"
          ]
        },
        {
          "output_type": "execute_result",
          "data": {
            "text/plain": [
              "{'pid.dat': b'4,83,86,19,29.3,0.317,34,2\\r\\n6,105,70,32,30.8,0.122,37,2\\r\\n1,89,24,19,27.8,0.559,21,2\\r\\n6,111,64,39,34.2,0.26,24,2\\r\\n4,146,85,27,28.9,0.189,27,2\\r\\n0,127,80,37,36.3,0.804,23,2\\r\\n0,135,94,46,40.6,0.284,26,2\\r\\n2,100,68,25,38.5,0.324,26,2\\r\\n0,119,66,27,38.8,0.259,22,2\\r\\n3,142,80,15,32.4,0.2,63,2\\r\\n0,113,80,16,31,0.874,21,2\\r\\n3,113,44,13,22.4,0.14,22,2\\r\\n2,108,52,26,32.5,0.318,22,2\\r\\n4,144,58,28,29.5,0.287,37,2\\r\\n5,95,72,33,37.7,0.37,27,2\\r\\n2,92,76,20,24.2,1.698,28,2\\r\\n0,97,64,36,36.8,0.6,25,2\\r\\n0,173,78,32,46.5,1.159,58,2\\r\\n1,84,64,23,36.9,0.471,28,2\\r\\n4,112,78,40,39.4,0.236,38,2\\r\\n2,117,90,19,25.2,0.313,21,2\\r\\n1,101,50,15,24.2,0.526,26,2\\r\\n9,154,78,30,30.9,0.164,45,2\\r\\n1,73,50,10,23,0.248,21,2\\r\\n2,99,60,17,36.6,0.453,21,2\\r\\n3,111,58,31,29.5,0.43,22,2\\r\\n6,103,72,32,37.7,0.324,55,2\\r\\n3,115,66,39,38.1,0.15,28,2\\r\\n12,88,74,40,35.3,0.378,48,2\\r\\n5,139,64,35,28.6,0.411,26,2\\r\\n0,105,64,41,41.5,0.173,22,2\\r\\n4,129,86,20,35.1,0.231,23,2\\r\\n0,102,86,17,29.3,0.695,27,2\\r\\n0,165,76,43,47.9,0.259,26,2\\r\\n2,122,76,27,35.9,0.483,26,2\\r\\n1,119,88,41,45.3,0.507,26,2\\r\\n3,173,78,39,33.8,0.97,31,1\\r\\n9,112,82,32,34.2,0.26,36,1\\r\\n6,115,60,39,33.7,0.245,40,1\\r\\n8,155,62,26,34,0.543,46,1\\r\\n1,189,60,23,30.1,0.398,59,1\\r\\n2,124,68,28,32.9,0.875,30,1\\r\\n0,129,110,46,67.1,0.319,26,1\\r\\n5,139,80,35,31.6,0.361,25,1\\r\\n0,138,60,35,34.6,0.534,21,1\\r\\n2,174,88,37,44.5,0.646,24,1\\r\\n0,118,84,47,45.8,0.551,31,1\\r\\n0,128,68,19,30.5,1.391,25,1\\r\\n5,166,72,19,25.8,0.587,51,1\\r\\n8,154,78,32,32.4,0.443,45,1\\r\\n8,124,76,24,28.7,0.687,52,1\\r\\n3,107,62,13,22.9,0.678,23,1\\r\\n5,97,76,27,35.6,0.378,52,1\\r\\n8,167,106,46,37.6,0.165,43,1\\r\\n1,71,48,18,20.4,0.323,22,2\\r\\n6,105,80,28,32.5,0.878,26,2\\r\\n5,77,82,41,35.8,0.156,35,2\\r\\n2,100,70,52,40.5,0.677,25,2\\r\\n1,81,74,41,46.3,1.096,32,2\\r\\n7,94,64,25,33.3,0.738,41,2\\r\\n5,109,75,26,36,0.546,60,2\\r\\n0,102,78,40,34.5,0.238,24,2\\r\\n4,95,70,32,32.1,0.612,24,2\\r\\n2,108,62,10,25.3,0.881,22,2\\r\\n3,191,68,15,30.9,0.299,34,2\\r\\n1,93,56,11,22.5,0.417,22,2\\r\\n1,107,72,30,30.8,0.821,24,2\\r\\n1,100,66,29,32,0.444,42,2\\r\\n2,106,64,35,30.5,1.4,34,2\\r\\n1,131,64,14,23.7,0.389,21,2\\r\\n1,106,70,28,34.2,0.142,22,2\\r\\n6,80,66,30,26.2,0.313,41,2\\r\\n1,109,38,18,23.1,0.407,26,2\\r\\n1,103,80,11,19.4,0.491,22,2\\r\\n3,84,72,32,37.2,0.267,28,2\\r\\n8,74,70,40,35.3,0.705,39,2\\r\\n5,155,84,44,38.7,0.619,34,2\\r\\n1,92,62,25,19.5,0.482,25,2\\r\\n1,143,84,23,42.4,1.076,22,2\\r\\n1,130,60,23,28.6,0.692,21,2\\r\\n2,107,74,30,33.6,0.404,23,2\\r\\n2,115,64,22,30.8,0.421,21,2\\r\\n0,98,82,15,25.2,0.299,22,2\\r\\n2,157,74,35,39.4,0.134,30,2\\r\\n1,130,70,13,25.9,0.472,22,2\\r\\n3,89,74,16,30.4,0.551,38,2\\r\\n3,123,100,35,57.3,0.88,22,2\\r\\n2,129,74,26,33.2,0.591,25,2\\r\\n1,153,82,42,40.6,0.687,23,2\\r\\n6,80,80,36,39.8,0.177,28,2\\r\\n8,179,72,42,32.7,0.719,36,1\\r\\n2,146,70,38,28,0.337,29,1\\r\\n8,176,90,34,33.7,0.467,58,1\\r\\n0,107,62,30,36.6,0.757,25,1\\r\\n12,84,72,31,29.7,0.297,46,1\\r\\n11,155,76,28,33.3,1.353,51,1\\r\\n3,193,70,31,34.9,0.241,25,1\\r\\n4,173,70,14,29.7,0.361,33,1\\r\\n9,102,76,37,32.9,0.665,46,1\\r\\n0,180,78,63,59.4,2.42,25,1\\r\\n9,164,84,21,30.8,0.831,32,1\\r\\n7,195,70,33,25.1,0.163,55,1\\r\\n7,187,68,39,37.7,0.254,41,1\\r\\n0,137,40,35,43.1,2.288,33,1\\r\\n0,131,66,40,34.3,0.196,22,1\\r\\n4,148,60,27,30.9,0.15,29,1\\r\\n3,187,70,22,36.4,0.408,36,1\\r\\n9,184,85,15,30,1.213,49,1\\r\\n0,107,60,25,26.4,0.133,23,2\\r\\n6,93,50,30,28.7,0.356,23,2\\r\\n0,95,80,45,36.5,0.33,26,2\\r\\n1,121,78,39,39,0.261,28,2\\r\\n4,103,60,33,24,0.966,33,2\\r\\n0,137,84,27,27.3,0.231,59,2\\r\\n1,128,82,17,27.5,0.115,22,2\\r\\n3,124,80,33,33.2,0.305,26,2\\r\\n1,90,62,12,27.2,0.58,24,2\\r\\n1,79,75,30,32,0.396,22,2\\r\\n1,100,66,15,23.6,0.666,26,2\\r\\n0,100,88,60,46.8,0.962,31,2\\r\\n1,96,64,27,33.2,0.289,21,2\\r\\n1,90,68,8,24.5,1.138,36,2\\r\\n9,123,70,44,33.1,0.374,40,2\\r\\n4,85,58,22,27.8,0.306,28,2\\r\\n1,97,70,15,18.2,0.147,21,2\\r\\n3,180,64,25,34,0.271,26,2\\r\\n0,84,64,22,35.8,0.545,21,2\\r\\n13,145,82,19,22.2,0.245,57,2\\r\\n1,71,78,50,33.2,0.422,21,2\\r\\n1,112,72,30,34.4,0.528,25,2\\r\\n3,106,54,21,30.9,0.292,24,2\\r\\n6,109,60,27,25,0.206,27,2\\r\\n0,93,100,39,43.4,1.021,35,2\\r\\n4,99,76,15,23.2,0.223,21,2\\r\\n1,193,50,16,25.9,0.655,24,2\\r\\n1,91,54,25,25.2,0.234,23,2\\r\\n2,110,74,29,32.4,0.698,27,2\\r\\n2,83,66,23,32.2,0.497,22,2\\r\\n2,98,60,17,34.7,0.198,22,2\\r\\n2,82,52,22,28.5,1.699,25,2\\r\\n4,131,68,21,33.1,0.16,28,2\\r\\n1,117,60,23,33.8,0.466,27,2\\r\\n4,154,72,29,31.3,0.338,37,2\\r\\n1,87,60,37,37.2,0.509,22,2\\r\\n4,109,64,44,34.8,0.905,26,1\\r\\n4,184,78,39,37,0.264,31,1\\r\\n5,158,84,41,39.4,0.395,29,1\\r\\n0,109,88,30,32.5,0.855,38,1\\r\\n6,119,50,22,27.1,1.318,33,1\\r\\n7,129,68,49,38.5,0.439,43,1\\r\\n0,198,66,32,41.3,0.502,28,1\\r\\n7,97,76,32,40.9,0.871,32,1\\r\\n3,173,82,48,38.4,2.137,25,1\\r\\n3,128,72,25,32.4,0.549,27,1\\r\\n2,93,64,32,38,0.674,23,1\\r\\n1,149,68,29,29.3,0.349,42,1\\r\\n3,130,78,23,28.4,0.323,34,1\\r\\n6,148,72,35,33.6,0.627,50,1\\r\\n8,196,76,29,37.5,0.605,57,1\\r\\n0,140,65,26,42.6,0.431,24,1\\r\\n9,152,78,34,34.2,0.893,33,1\\r\\n7,109,80,31,35.9,1.127,43,1\\r\\n3,96,56,34,24.7,0.944,39,2\\r\\n0,126,84,29,30.7,0.52,24,2\\r\\n2,99,52,15,24.6,0.637,21,2\\r\\n3,120,70,30,42.9,0.452,30,2\\r\\n0,78,88,29,36.9,0.434,21,2\\r\\n0,117,80,31,45.2,0.089,24,2\\r\\n6,108,44,20,24,0.813,35,2\\r\\n3,103,72,30,27.6,0.73,27,2\\r\\n0,74,52,10,27.8,0.269,22,2\\r\\n1,109,58,18,28.5,0.219,22,2\\r\\n9,72,78,25,31.6,0.28,38,2\\r\\n2,112,78,50,39.4,0.175,24,2\\r\\n0,102,64,46,40.6,0.496,21,2\\r\\n5,99,54,28,34,0.499,30,2\\r\\n3,96,78,39,37.3,0.238,40,2\\r\\n7,114,76,17,23.8,0.466,31,2\\r\\n2,100,54,28,37.8,0.498,24,2\\r\\n2,146,76,35,38.2,0.329,29,2\\r\\n4,197,70,39,36.7,2.329,31,2\\r\\n2,125,60,20,33.8,0.088,31,2\\r\\n4,151,90,38,29.7,0.294,36,2\\r\\n0,120,74,18,30.5,0.285,26,2\\r\\n3,148,66,25,32.5,0.256,22,2\\r\\n4,117,64,27,33.2,0.23,24,2\\r\\n1,111,62,13,24,0.138,23,2\\r\\n1,89,66,23,28.1,0.167,21,2\\r\\n4,94,65,22,24.7,0.148,21,2\\r\\n10,101,76,48,32.9,0.171,63,2\\r\\n3,113,50,10,29.5,0.626,25,2\\r\\n1,116,78,29,36.1,0.496,25,2\\r\\n1,99,58,10,25.4,0.551,21,2\\r\\n1,108,60,46,35.5,0.415,24,2\\r\\n0,114,80,34,44.2,0.167,27,2\\r\\n1,81,72,18,26.6,0.283,24,2\\r\\n1,118,58,36,33.3,0.261,23,2\\r\\n1,140,74,26,24.1,0.828,23,2\\r\\n0,179,90,27,44.1,0.686,23,1\\r\\n5,85,74,22,29,1.224,32,1\\r\\n1,181,78,42,40,1.258,22,1\\r\\n2,155,74,17,26.6,0.433,27,1\\r\\n9,112,82,24,28.2,1.282,50,1\\r\\n11,120,80,37,42.3,0.785,48,1\\r\\n1,119,86,39,45.6,0.808,29,1\\r\\n9,156,86,28,34.3,1.189,42,1\\r\\n5,144,82,26,32,0.452,58,1\\r\\n7,106,60,24,26.5,0.296,29,1\\r\\n7,103,66,32,39.1,0.344,31,1\\r\\n0,180,66,39,42,1.893,25,1\\r\\n7,194,68,28,35.9,0.745,41,1\\r\\n10,148,84,48,37.6,1.001,51,1\\r\\n7,152,88,44,50,0.337,36,1\\r\\n0,188,82,14,32,0.682,22,1\\r\\n1,147,94,41,49.3,0.358,27,1\\r\\n7,187,50,33,33.9,0.826,34,1\\r\\n1,97,64,19,18.2,0.299,21,2\\r\\n1,164,82,43,32.8,0.341,50,2\\r\\n2,71,70,27,28,0.586,22,2\\r\\n1,87,78,27,34.6,0.101,22,2\\r\\n3,99,54,19,25.6,0.154,24,2\\r\\n8,126,74,38,25.9,0.162,39,2\\r\\n2,96,68,13,21.1,0.647,26,2\\r\\n5,121,72,23,26.2,0.245,30,2\\r\\n9,120,72,22,20.8,0.733,48,2\\r\\n2,87,58,16,32.7,0.166,25,2\\r\\n2,81,60,22,27.7,0.29,25,2\\r\\n12,140,85,33,37.4,0.244,41,2\\r\\n0,124,56,13,21.8,0.452,21,2\\r\\n1,90,62,18,25.1,1.268,25,2\\r\\n0,106,70,37,39.4,0.605,22,2\\r\\n3,84,68,30,31.9,0.591,25,2\\r\\n5,86,68,28,30.2,0.364,24,2\\r\\n4,99,68,38,32.8,0.145,33,2\\r\\n0,84,82,31,38.2,0.233,23,2\\r\\n6,99,60,19,26.9,0.497,32,2\\r\\n1,95,66,13,19.6,0.334,25,2\\r\\n4,147,74,25,34.9,0.385,30,2\\r\\n5,105,72,29,36.9,0.159,28,2\\r\\n10,94,72,18,23.1,0.595,56,2\\r\\n1,119,54,13,22.3,0.205,24,2\\r\\n12,121,78,17,26.5,0.259,62,2\\r\\n6,144,72,27,33.9,0.255,40,2\\r\\n1,107,50,19,28.3,0.181,29,2\\r\\n2,112,66,22,25,0.307,24,2\\r\\n3,158,64,13,31.2,0.295,24,2\\r\\n5,96,74,18,33.6,0.997,43,2\\r\\n2,68,62,13,20.1,0.257,23,2\\r\\n10,68,106,23,35.5,0.285,47,2\\r\\n3,99,80,11,19.3,0.284,30,2\\r\\n1,124,74,36,27.8,0.1,30,2\\r\\n6,123,72,45,33.6,0.733,34,2\\r\\n',\n",
              " 'pidtest.dat': b'5,136,84,41,35,0.286,35,1\\r\\n9,170,74,31,44,0.403,43,1\\r\\n14,175,62,30,33.6,0.212,38,1\\r\\n7,160,54,32,30.5,0.588,39,1\\r\\n0,180,90,26,36.5,0.314,35,1\\r\\n0,95,85,25,37.4,0.247,24,1\\r\\n3,80,82,31,34.2,1.292,27,1\\r\\n7,142,90,24,30.4,0.128,43,1\\r\\n1,199,76,43,42.9,1.394,22,1\\r\\n1,117,88,24,34.5,0.403,40,1\\r\\n5,189,64,33,31.2,0.583,29,1\\r\\n4,145,82,18,32.5,0.235,70,1\\r\\n4,144,82,32,38.5,0.554,37,1\\r\\n11,111,84,40,46.8,0.925,45,1\\r\\n0,151,90,46,42.1,0.371,21,1\\r\\n2,100,66,20,32.9,0.867,28,1\\r\\n1,167,74,17,23.4,0.447,33,1\\r\\n0,124,70,20,27.4,0.254,36,1\\r\\n0,165,90,33,52.3,0.427,23,2\\r\\n1,87,68,34,37.6,0.401,24,2\\r\\n1,80,74,11,30,0.527,22,2\\r\\n11,103,68,40,46.2,0.126,42,2\\r\\n10,122,78,31,27.6,0.512,45,2\\r\\n2,114,68,22,28.7,0.092,25,2\\r\\n0,137,68,14,24.8,0.143,21,2\\r\\n2,94,76,18,31.6,0.649,23,2\\r\\n5,106,82,30,39.5,0.286,38,2\\r\\n2,121,70,32,39.1,0.886,23,2\\r\\n1,109,60,8,25.4,0.947,21,2\\r\\n2,120,76,37,39.7,0.215,29,2\\r\\n0,141,84,26,32.4,0.433,22,2\\r\\n6,151,62,31,35.5,0.692,28,2\\r\\n1,85,66,29,26.6,0.351,31,2\\r\\n4,97,60,23,28.2,0.443,22,2\\r\\n2,122,52,43,36.2,0.816,28,2\\r\\n2,122,60,18,29.8,0.717,22,2\\r\\n1,93,70,31,30.4,0.315,23,2\\r\\n7,81,78,40,46.7,0.261,42,2\\r\\n3,108,62,24,26,0.223,25,2\\r\\n5,88,78,30,27.6,0.258,37,2\\r\\n7,142,60,33,28.8,0.687,61,2\\r\\n0,101,65,28,24.6,0.237,22,2\\r\\n6,154,74,32,29.3,0.839,39,2\\r\\n0,93,60,25,28.7,0.532,22,2\\r\\n3,116,74,15,26.3,0.107,24,2\\r\\n5,126,78,27,29.6,0.439,40,2\\r\\n1,136,74,50,37.4,0.399,24,2\\r\\n7,137,90,41,32,0.391,39,2\\r\\n9,124,70,33,35.4,0.282,34,2\\r\\n4,132,86,31,28,0.419,63,2\\r\\n8,85,55,20,24.4,0.136,42,2\\r\\n1,157,72,21,25.6,0.123,24,2\\r\\n2,89,90,30,33.5,0.292,42,2\\r\\n1,82,64,13,21.2,0.415,23,2\\r\\n0,189,104,25,34.3,0.435,41,1\\r\\n1,88,30,42,55,0.496,26,1\\r\\n1,125,50,40,33.3,0.962,28,1\\r\\n0,135,68,42,42.3,0.365,24,1\\r\\n3,169,74,19,29.9,0.268,31,1\\r\\n6,104,74,18,29.9,0.722,41,1\\r\\n15,136,70,32,37.1,0.153,43,1\\r\\n8,151,78,32,42.9,0.516,36,1\\r\\n2,197,70,99,34.7,0.575,62,1\\r\\n0,181,88,44,43.3,0.222,26,1\\r\\n9,145,80,46,37.9,0.637,40,1\\r\\n6,134,80,37,46.2,0.238,46,1\\r\\n3,163,70,18,31.6,0.268,28,1\\r\\n6,125,78,31,27.6,0.565,49,1\\r\\n1,115,70,30,34.6,0.529,32,1\\r\\n9,171,110,24,45.4,0.721,54,1\\r\\n1,128,88,39,36.5,1.057,37,1\\r\\n3,174,58,22,32.9,0.593,36,1\\r\\n2,90,80,14,24.4,0.249,24,2\\r\\n2,100,64,23,29.7,0.368,21,2\\r\\n3,83,58,31,34.3,0.336,25,2\\r\\n7,133,88,15,32.4,0.262,37,2\\r\\n1,99,72,30,38.6,0.412,21,2\\r\\n1,86,66,52,41.3,0.917,29,2\\r\\n5,117,86,30,39.1,0.251,42,2\\r\\n1,112,80,45,34.8,0.217,24,2\\r\\n1,124,60,32,35.8,0.514,21,2\\r\\n2,112,68,22,34.1,0.315,26,2\\r\\n1,88,62,24,29.9,0.422,23,2\\r\\n2,56,56,28,24.2,0.332,22,2\\r\\n1,144,82,40,41.3,0.607,28,2\\r\\n13,153,88,37,40.6,1.174,39,2\\r\\n6,154,78,41,46.1,0.571,27,2\\r\\n5,123,74,40,34.1,0.269,28,2\\r\\n4,91,70,32,33.1,0.446,22,2\\r\\n2,99,70,16,20.4,0.235,27,2\\r\\n5,111,72,28,23.9,0.407,27,2\\r\\n8,84,74,31,38.3,0.457,39,2\\r\\n3,126,88,41,39.3,0.704,27,2\\r\\n1,100,72,12,25.3,0.658,28,2\\r\\n2,88,74,19,29,0.229,22,2\\r\\n3,99,62,19,21.8,0.279,26,2\\r\\n8,118,72,19,23.1,1.476,46,2\\r\\n4,129,60,12,27.5,0.527,31,2\\r\\n4,99,72,17,25.6,0.294,28,2\\r\\n1,125,70,24,24.3,0.221,25,2\\r\\n0,117,66,31,30.8,0.493,22,2\\r\\n3,100,68,23,31.6,0.949,28,2\\r\\n4,96,56,17,20.8,0.34,26,2\\r\\n1,95,74,21,25.9,0.673,36,2\\r\\n1,120,80,48,38.9,1.162,41,2\\r\\n3,87,60,18,21.8,0.444,21,2\\r\\n3,61,82,28,34.4,0.243,46,2\\r\\n4,116,72,12,22.1,0.463,37,2\\r\\n12,151,70,40,41.8,0.742,38,1\\r\\n3,158,76,36,31.6,0.851,28,1\\r\\n0,177,60,29,34.6,1.072,21,1\\r\\n10,161,68,23,25.5,0.326,47,1\\r\\n3,78,50,32,31,0.248,26,1\\r\\n7,184,84,33,35.5,0.355,41,1\\r\\n1,122,90,51,49.7,0.325,31,1\\r\\n12,92,62,7,27.6,0.926,44,1\\r\\n0,162,76,36,49.6,0.364,26,1\\r\\n3,162,52,38,37.2,0.652,24,1\\r\\n17,163,72,41,40.9,0.817,47,1\\r\\n1,128,48,45,40.5,0.613,24,1\\r\\n1,196,76,36,36.5,0.875,29,1\\r\\n11,138,74,26,36.1,0.557,50,1\\r\\n12,140,82,43,39.2,0.528,58,1\\r\\n10,125,70,26,31.1,0.205,41,1\\r\\n10,101,86,37,45.6,1.136,38,1\\r\\n4,111,72,47,37.1,1.39,56,1\\r\\n6,129,90,7,19.6,0.582,60,2\\r\\n1,109,56,21,25.2,0.833,23,2\\r\\n7,136,74,26,26,0.647,51,2\\r\\n0,91,68,32,39.9,0.381,25,2\\r\\n1,79,60,42,43.5,0.678,23,2\\r\\n3,81,86,16,27.5,0.306,22,2\\r\\n5,99,74,27,29,0.203,32,2\\r\\n0,147,85,54,42.8,0.375,24,2\\r\\n1,97,66,15,23.2,0.487,22,2\\r\\n2,112,86,42,38.4,0.246,28,2\\r\\n8,65,72,23,32,0.6,42,2\\r\\n6,102,90,39,35.7,0.674,28,2\\r\\n0,94,70,27,43.5,0.347,21,2\\r\\n1,139,62,41,40.7,0.536,21,2\\r\\n10,129,76,28,35.9,0.28,39,2\\r\\n2,127,46,21,34.4,0.176,22,2\\r\\n2,122,70,27,36.8,0.34,27,2\\r\\n9,57,80,37,32.8,0.096,41,2\\r\\n0,137,70,38,33.2,0.17,22,2\\r\\n1,77,56,30,33.3,1.251,24,2\\r\\n1,111,86,19,30.1,0.143,23,2\\r\\n0,86,68,32,35.8,0.238,25,2\\r\\n0,101,64,17,21,0.252,21,2\\r\\n1,97,68,21,27.2,1.095,22,2\\r\\n0,134,58,20,26.4,0.352,21,2\\r\\n1,95,60,18,23.9,0.26,22,2\\r\\n6,98,58,33,34,0.43,43,2\\r\\n3,88,58,11,24.8,0.267,22,2\\r\\n2,95,54,14,26.1,0.748,22,2\\r\\n1,79,80,25,25.4,0.583,22,2\\r\\n6,165,68,26,33.6,0.631,49,2\\r\\n2,83,65,28,36.8,0.629,24,2\\r\\n1,97,70,40,38.1,0.218,30,2\\r\\n0,152,82,39,41.5,0.27,27,2\\r\\n1,114,66,36,38.1,0.289,21,2\\r\\n4,110,76,20,28.4,0.118,27,2\\r\\n3,170,64,37,34.5,0.356,30,1\\r\\n1,144,82,46,46.1,0.335,46,1\\r\\n3,171,72,33,33.3,0.199,24,1\\r\\n3,112,74,30,31.6,0.197,25,1\\r\\n11,136,84,35,28.3,0.26,42,1\\r\\n5,187,76,27,43.6,1.034,53,1\\r\\n5,109,62,41,35.8,0.514,25,1\\r\\n0,121,66,30,34.3,0.203,33,1\\r\\n1,95,82,25,35,0.233,43,1\\r\\n0,162,76,56,53.2,0.759,25,1\\r\\n0,104,64,37,33.6,0.51,22,1\\r\\n3,158,70,30,35.5,0.344,35,1\\r\\n0,179,50,36,37.8,0.455,22,1\\r\\n7,168,88,42,38.2,0.787,40,1\\r\\n2,90,68,42,38.2,0.503,27,1\\r\\n1,113,64,35,33.6,0.543,21,1\\r\\n6,134,70,23,35.4,0.542,29,1\\r\\n2,144,58,33,31.6,0.422,25,1\\r\\n2,90,70,17,27.3,0.085,22,2\\r\\n2,92,62,28,31.6,0.13,24,2\\r\\n4,127,88,11,34.5,0.598,28,2\\r\\n2,101,58,17,24.2,0.614,23,2\\r\\n2,94,68,18,26,0.561,21,2\\r\\n5,103,108,37,39.2,0.305,65,2\\r\\n0,104,64,23,27.8,0.454,23,2\\r\\n2,105,58,40,34.9,0.225,25,2\\r\\n2,101,58,35,21.8,0.155,22,2\\r\\n5,108,72,43,36.1,0.263,33,2\\r\\n2,106,56,27,29,0.426,22,2\\r\\n6,92,62,32,32,0.085,46,2\\r\\n0,119,64,18,34.9,0.725,23,2\\r\\n1,108,88,19,27.1,0.4,24,2\\r\\n1,143,74,22,26.2,0.256,21,2\\r\\n7,150,66,42,34.7,0.718,42,2\\r\\n3,111,56,39,30.1,0.557,30,2\\r\\n7,83,78,26,29.3,0.767,36,2\\r\\n2,128,64,42,40,1.101,24,2\\r\\n7,102,74,40,37.2,0.204,45,2\\r\\n2,68,70,32,25,0.187,25,2\\r\\n1,100,74,12,19.5,0.149,28,2\\r\\n4,189,110,31,28.5,0.68,37,2\\r\\n12,100,84,33,30,0.488,46,2\\r\\n2,112,75,32,35.7,0.148,21,2\\r\\n7,106,92,18,22.7,0.235,48,2\\r\\n3,111,90,12,28.4,0.495,29,2\\r\\n9,134,74,33,25.9,0.46,81,2\\r\\n0,123,88,37,35.2,0.197,29,2\\r\\n5,88,66,21,24.4,0.342,30,2\\r\\n2,127,58,24,27.7,1.6,25,2\\r\\n10,111,70,27,27.5,0.141,40,1\\r\\n2,102,86,36,45.5,0.127,23,1\\r\\n10,129,62,36,41.2,0.441,38,1\\r\\n1,172,68,49,42.4,0.702,28,1\\r\\n14,100,78,25,36.6,0.412,46,1\\r\\n4,117,62,12,29.7,0.38,30,1\\r\\n3,176,86,27,33.3,1.154,52,1\\r\\n8,109,76,39,27.9,0.64,31,1\\r\\n2,105,80,45,33.7,0.711,29,1\\r\\n2,155,52,27,38.7,0.24,25,1\\r\\n8,105,100,36,43.3,0.239,45,1\\r\\n11,143,94,33,36.6,0.254,51,1\\r\\n1,168,88,29,35,0.905,52,1\\r\\n1,122,64,32,35.1,0.692,30,1\\r\\n1,181,64,30,34.1,0.328,38,1'}"
            ]
          },
          "metadata": {},
          "execution_count": 2
        }
      ]
    },
    {
      "cell_type": "code",
      "metadata": {
        "colab": {
          "base_uri": "https://localhost:8080/"
        },
        "id": "V5xoiomn-O5h",
        "outputId": "c76003e0-f14c-4f90-e2dd-cf848fef01e3"
      },
      "source": [
        "# 데이터 불러오기\n",
        "tr_data_name = input(\"Enter the name of training data file [(ex) pid.dat] : \")\n",
        "\n",
        "tst_data_name = input(\"Enter the name of test data file [(ex) pidtest.dat] : \")\n",
        "\n",
        "coding_fm = int(input(\"Select the data coding format(1 = 'a b c' or 2 = 'a,b,c'):\"))\n",
        "                     \n",
        "if(coding_fm == 1) : separator_fm = \" \"\n",
        "else : separator_fm = \",\"\n",
        "\n",
        "res_pos = int(input(\"Enter the column position of the response variable : [from 1 to p] : \"))\n",
        "                      \n",
        "header= input(\"Does the data have column header? (True/False) : \")\n",
        "                      \n",
        "if(header == 'True'):\n",
        "    trdata = pd.read_csv(tr_data_name, sep=separator_fm)\n",
        "    tstdata = pd.read_csv(tst_data_name, sep=separator_fm)\n",
        "else:\n",
        "    trdata = pd.read_csv(tr_data_name, sep=separator_fm, header=None)\n",
        "    tstdata = pd.read_csv(tst_data_name, sep=separator_fm, header=None)\n",
        "                      \n",
        "out_name=input(\"Enter the output file name to export [(ex) result.txt] : \")"
      ],
      "execution_count": 6,
      "outputs": [
        {
          "name": "stdout",
          "output_type": "stream",
          "text": [
            "Enter the name of training data file [(ex) pid.dat] : pid.dat\n",
            "Enter the name of test data file [(ex) pidtest.dat] : pidtest.dat\n",
            "Select the data coding format(1 = 'a b c' or 2 = 'a,b,c'):2\n",
            "Enter the column position of the response variable : [from 1 to p] : 8\n",
            "Does the data have column header? (True/False) : False\n",
            "Enter the output file name to export [(ex) result.txt] : result.txt\n"
          ]
        }
      ]
    },
    {
      "cell_type": "code",
      "metadata": {
        "id": "EWBODjD9_hmD"
      },
      "source": [
        "# 주어진 코드\n",
        "def My_CART():\n",
        "    X_tr = trdata.drop(res_pos-1, axis=1)\n",
        "    Y_tr = trdata[res_pos-1]\n",
        "    X_tst = tstdata.drop(res_pos-1, axis=1)\n",
        "    Y_tst = tstdata[res_pos-1]\n",
        "    df = pd.DataFrame(columns = ['i','j','i_t1'])\n",
        "\n",
        "    for i in range(X_tr.shape[1]):\n",
        "        target_X = X_tr.iloc[:,i]\n",
        "        unisort_dummy = np.sort(target_X.unique()) #*********************************************************************************\n",
        "        for j in range(1, len(unisort_dummy)):\n",
        "            vector_L = Y_tr[target_X < unisort_dummy[j]]\n",
        "            vector_R = Y_tr[target_X >= unisort_dummy[j]]\n",
        "            p_L1 = sum(vector_L == Y_tr.unique()[0]) / len(vector_L)\n",
        "            p_L2 = sum(vector_L == Y_tr.unique()[1]) / len(vector_L)\n",
        "            p_R1 = sum(vector_R == Y_tr.unique()[0]) / len(vector_R)\n",
        "            p_R2 = sum(vector_R == Y_tr.unique()[1]) / len(vector_R)\n",
        "            i_L = 1 - p_L1**2 - p_L2**2 # the gini impurity\n",
        "            i_R = 1 - p_R1**2 - p_R2**2\n",
        "            w_L = len(vector_L) / len(Y_tr) # weight\n",
        "            w_R = len(vector_R) / len(Y_tr)\n",
        "            i_t1 = i_L * w_L + i_R * w_R # 현재G - i_tl = goodness \n",
        "            df = df.append({'i': i, 'j': j, 'i_t1': i_t1}, ignore_index = True)\n",
        "\n",
        "    answer_key = df.loc[df.iloc[:,2] == min(df.iloc[:,2]),:] # goodness가 최대 - i_t1이 최소\n",
        "    answer_key = np.array(answer_key)[0]\n",
        "    target_X = X_tr.iloc[:,int(answer_key[0])]\n",
        "    unisort_dummy = np.sort(target_X.unique())\n",
        "    vector_L = Y_tr[target_X < unisort_dummy[int(answer_key[1])]]\n",
        "    vector_R = Y_tr[target_X >= unisort_dummy[int(answer_key[1])]]\n",
        "\n",
        "    Prediction = []\n",
        "    for i in range(len(Y_tst)):\n",
        "        if X_tst.iloc[i, int(answer_key[0])] < np.sort(X_tr.iloc[:,int(answer_key[0])].unique())[int(answer_key[1])]:\n",
        "            Y_pred = st.mode(vector_L)\n",
        "        else:\n",
        "            Y_pred = st.mode(vector_R)\n",
        "        Prediction.append(Y_pred)\n",
        "\n",
        "    accuracy_tst = sum(Prediction == Y_tst) / len(Y_tst)\n",
        "\n",
        "    df = pd.DataFrame()\n",
        "    df['Actual'] = Y_tst\n",
        "    df['Prediction'] = Prediction\n",
        "    df['count'] = np.ones(len(Y_tst))\n",
        "    confusion_matrix = pd.pivot_table(df, values='count', index=['Actual'],\n",
        "                                columns=['Prediction'], aggfunc=np.sum, fill_value=0)\n",
        "    \n",
        "    #sys.stdout = open(out_name,'w')\n",
        "    print(\"Tree Structure (#Class{0}, #Class{1})\".format(\n",
        "        Y_tr.unique()[0], Y_tr.unique()[1]))\n",
        "    print(\"Node 1: X{0} < {1} {2}\".format(\n",
        "        int(answer_key[0]) + 1, np.sort(X_tr.iloc[:,int(answer_key[0])].unique())[int(answer_key[1])],\n",
        "        (sum(Y_tr == Y_tr.unique()[0]),sum(Y_tr == Y_tr.unique()[1]))))\n",
        "    print(\"Node 2: {0} {1}\".format(st.mode(vector_L),(sum(vector_L == Y_tr.unique()[0]), sum(vector_L == Y_tr.unique()[1]))))\n",
        "    print(\"Node 3: {0} {1}\".format(st.mode(vector_R),(sum(vector_R == Y_tr.unique()[0]), sum(vector_R == Y_tr.unique()[1]))))\n",
        "    print(\"\\nConfusion Matrix (Test)\\n---------------------------\")\n",
        "    print(confusion_matrix)\n",
        "    print('\\nModel Summary (Test)\\n---------------------------')        \n",
        "    print(\"Overall Accuracy = {}\".format(np.round(accuracy_tst, 3)))"
      ],
      "execution_count": 7,
      "outputs": []
    },
    {
      "cell_type": "code",
      "metadata": {
        "colab": {
          "base_uri": "https://localhost:8080/"
        },
        "id": "_18_t-4ENY02",
        "outputId": "648345a2-f888-4735-d111-a1e5ba404390"
      },
      "source": [
        "My_CART()"
      ],
      "execution_count": 8,
      "outputs": [
        {
          "output_type": "stream",
          "name": "stdout",
          "text": [
            "Tree Structure (#Class2, #Class1)\n",
            "Node 1: X2 < 147 (180, 72)\n",
            "Node 2: 2 (164, 34)\n",
            "Node 3: 1 (16, 38)\n",
            "\n",
            "Confusion Matrix (Test)\n",
            "---------------------------\n",
            "Prediction   1    2\n",
            "Actual             \n",
            "1           37   50\n",
            "2           11  128\n",
            "\n",
            "Model Summary (Test)\n",
            "---------------------------\n",
            "Overall Accuracy = 0.73\n"
          ]
        }
      ]
    },
    {
      "cell_type": "code",
      "metadata": {
        "id": "lMln9CTRKVXy"
      },
      "source": [
        "def My_CART2():\n",
        "    X_tr = trdata.drop(res_pos-1, axis=1)\n",
        "    Y_tr = trdata[res_pos-1]\n",
        "    X_tst = tstdata.drop(res_pos-1, axis=1)\n",
        "    Y_tst = tstdata[res_pos-1]\n",
        "    df = pd.DataFrame(columns = ['i','j','i_t1'])\n",
        "\n",
        "    for i in range(X_tr.shape[1]):\n",
        "        target_X = X_tr.iloc[:,i]\n",
        "        unisort_dummy = np.sort(target_X.unique())\n",
        "        unisort_dummy_2 = [(unisort_dummy[i] + unisort_dummy[i+1])/2 for i in range(0, len(unisort_dummy)-1)] #***********************************\n",
        "        for j in range(1, len(unisort_dummy_2)):\n",
        "            vector_L = Y_tr[target_X < unisort_dummy_2[j]] \n",
        "            vector_R = Y_tr[target_X >= unisort_dummy_2[j]]\n",
        "            p_L1 = sum(vector_L == Y_tr.unique()[0]) / len(vector_L)\n",
        "            p_L2 = sum(vector_L == Y_tr.unique()[1]) / len(vector_L)\n",
        "            p_R1 = sum(vector_R == Y_tr.unique()[0]) / len(vector_R)\n",
        "            p_R2 = sum(vector_R == Y_tr.unique()[1]) / len(vector_R)\n",
        "            i_L = 1 - p_L1**2 - p_L2**2 \n",
        "            i_R = 1 - p_R1**2 - p_R2**2\n",
        "            w_L = len(vector_L) / len(Y_tr) \n",
        "            w_R = len(vector_R) / len(Y_tr)\n",
        "            i_t1 = i_L * w_L + i_R * w_R \n",
        "            df = df.append({'i': i, 'j': j, 'i_t1': i_t1}, ignore_index = True)\n",
        "\n",
        "    answer_key = df.loc[df.iloc[:,2] == min(df.iloc[:,2]),:] \n",
        "    answer_key = np.array(answer_key)[0]\n",
        "    target_X = X_tr.iloc[:,int(answer_key[0])] \n",
        "    unisort_dummy = np.sort(target_X.unique())\n",
        "    unisort_dummy_2 = [(unisort_dummy[i] + unisort_dummy[i+1])/2 for i in range(0, len(unisort_dummy)-1)]\n",
        "    vector_L = Y_tr[target_X < unisort_dummy_2[int(answer_key[1])]]\n",
        "    vector_R = Y_tr[target_X >= unisort_dummy_2[int(answer_key[1])]]\n",
        "\n",
        "    Prediction = []\n",
        "    for i in range(len(Y_tst)):\n",
        "        if X_tst.iloc[i, int(answer_key[0])] < unisort_dummy_2[int(answer_key[1])]:\n",
        "            Y_pred = st.mode(vector_L)\n",
        "        else:\n",
        "            Y_pred = st.mode(vector_R)\n",
        "        Prediction.append(Y_pred)\n",
        "\n",
        "    accuracy_tst = sum(Prediction == Y_tst) / len(Y_tst)\n",
        "\n",
        "    df = pd.DataFrame()\n",
        "    df['Actual'] = Y_tst\n",
        "    df['Prediction'] = Prediction\n",
        "    df['count'] = np.ones(len(Y_tst))\n",
        "    confusion_matrix = pd.pivot_table(df, values='count', index=['Actual'],\n",
        "                                columns=['Prediction'], aggfunc=np.sum, fill_value=0)\n",
        "    \n",
        "    #sys.stdout = open(out_name,'w')\n",
        "    print(\"Tree Structure (#Class{0}, #Class{1})\".format(\n",
        "        Y_tr.unique()[0], Y_tr.unique()[1]))\n",
        "    print(\"Node 1: X{0} < {1} {2}\".format(\n",
        "        int(answer_key[0]) + 1, unisort_dummy_2[int(answer_key[1])],\n",
        "        (sum(Y_tr == Y_tr.unique()[0]),sum(Y_tr == Y_tr.unique()[1]))))\n",
        "    print(\"Node 2: {0} {1}\".format(st.mode(vector_L),(sum(vector_L == Y_tr.unique()[0]), sum(vector_L == Y_tr.unique()[1]))))\n",
        "    print(\"Node 3: {0} {1}\".format(st.mode(vector_R),(sum(vector_R == Y_tr.unique()[0]), sum(vector_R == Y_tr.unique()[1]))))\n",
        "    print(\"\\nConfusion Matrix (Test)\\n---------------------------\")\n",
        "    print(confusion_matrix)\n",
        "    print('\\nModel Summary (Test)\\n---------------------------')        \n",
        "    print(\"Overall Accuracy = {}\".format(np.round(accuracy_tst, 3)))"
      ],
      "execution_count": 25,
      "outputs": []
    },
    {
      "cell_type": "code",
      "metadata": {
        "colab": {
          "base_uri": "https://localhost:8080/"
        },
        "id": "fIUFyC6f_myZ",
        "outputId": "db36c571-4633-475f-a384-423e305f4641"
      },
      "source": [
        "My_CART2()"
      ],
      "execution_count": 26,
      "outputs": [
        {
          "output_type": "stream",
          "name": "stdout",
          "text": [
            "Tree Structure (#Class2, #Class1)\n",
            "Node 1: X2 < 146.5 (180, 72)\n",
            "Node 2: 2 (164, 34)\n",
            "Node 3: 1 (16, 38)\n",
            "\n",
            "Confusion Matrix (Test)\n",
            "---------------------------\n",
            "Prediction   1    2\n",
            "Actual             \n",
            "1           37   50\n",
            "2           11  128\n",
            "\n",
            "Model Summary (Test)\n",
            "---------------------------\n",
            "Overall Accuracy = 0.73\n"
          ]
        }
      ]
    }
  ]
}