{
 "cells": [
  {
   "cell_type": "code",
   "execution_count": 1,
   "metadata": {},
   "outputs": [],
   "source": [
    "import pandas as pd\n",
    "import numpy as np\n",
    "import sys\n",
    "import statistics as st"
   ]
  },
  {
   "cell_type": "code",
   "execution_count": 2,
   "metadata": {},
   "outputs": [
    {
     "name": "stdout",
     "output_type": "stream",
     "text": [
      "Enter the name of training data file [(ex) pid.dat] : pid.dat\n",
      "Enter the name of test data file [(ex) pidtest.dat] : pidtest.dat\n",
      "Select the data coding format(1 = 'a b c' or 2 = 'a,b,c'):2\n",
      "Enter the column position of the response variable : [from 1 to p] : 8\n",
      "Does the data have column header? (True/False) : False\n",
      "Enter the output file name to export [(ex) result.txt] : result_6.txt\n"
     ]
    }
   ],
   "source": [
    "tr_data_name = input(\"Enter the name of training data file [(ex) pid.dat] : \")\n",
    "\n",
    "tst_data_name = input(\"Enter the name of test data file [(ex) pidtest.dat] : \")\n",
    "\n",
    "coding_fm = int(input(\"Select the data coding format(1 = 'a b c' or 2 = 'a,b,c'):\"))\n",
    "                     \n",
    "if(coding_fm == 1) : separator_fm = \" \"\n",
    "else : separator_fm = \",\"\n",
    "\n",
    "res_pos = int(input(\"Enter the column position of the response variable : [from 1 to p] : \"))\n",
    "                      \n",
    "header= input(\"Does the data have column header? (True/False) : \")\n",
    "                      \n",
    "if(header == 'True'):\n",
    "    trdata = pd.read_csv(tr_data_name, sep=separator_fm)\n",
    "    tstdata = pd.read_csv(tst_data_name, sep=separator_fm)\n",
    "else:\n",
    "    trdata = pd.read_csv(tr_data_name, sep=separator_fm, header=None)\n",
    "    tstdata = pd.read_csv(tst_data_name, sep=separator_fm, header=None)\n",
    "                      \n",
    "out_name=input(\"Enter the output file name to export [(ex) result.txt] : \")"
   ]
  },
  {
   "cell_type": "code",
   "execution_count": 17,
   "metadata": {},
   "outputs": [],
   "source": [
    "def My_CART():\n",
    "    X_tr = trdata.drop(res_pos-1, axis=1)\n",
    "    Y_tr = trdata[res_pos-1]\n",
    "    X_tst = tstdata.drop(res_pos-1, axis=1)\n",
    "    Y_tst = tstdata[res_pos-1]\n",
    "    df = pd.DataFrame(columns = ['i','j','i_t1'])\n",
    "    for i in range(X_tr.shape[1]):\n",
    "        target_X = X_tr.iloc[:,i]\n",
    "        unisort_dummy = np.sort(target_X.unique())\n",
    "        unisort_dummy = [(unisort_dummy[i] + unisort_dummy[i+1])/2 for i in range(0, len(unisort_dummy)-1)]\n",
    "        for j in range(len(unisort_dummy)):\n",
    "            vector_L = Y_tr[target_X < unisort_dummy[j]]\n",
    "            vector_R = Y_tr[target_X >= unisort_dummy[j]]\n",
    "            p_L1 = sum(vector_L == Y_tr.unique()[0]) / len(vector_L)\n",
    "            p_L2 = sum(vector_L == Y_tr.unique()[1]) / len(vector_L)\n",
    "            p_R1 = sum(vector_R == Y_tr.unique()[0]) / len(vector_R)\n",
    "            p_R2 = sum(vector_R == Y_tr.unique()[1]) / len(vector_R)\n",
    "            i_L = 1 - p_L1**2 - p_L2**2\n",
    "            i_R = 1 - p_R1**2 - p_R2**2\n",
    "            w_L = len(vector_L) / len(Y_tr)\n",
    "            w_R = len(vector_R) / len(Y_tr)\n",
    "            i_t1 = i_L * w_L + i_R * w_R\n",
    "            df = df.append({'i': i, 'j': j, 'i_t1': i_t1}, ignore_index = True)\n",
    "\n",
    "    answer_key = df.loc[df.iloc[:,2] == min(df.iloc[:,2]),:]\n",
    "    answer_key = np.array(answer_key)[0]\n",
    "    target_X = X_tr.iloc[:,int(answer_key[0])]\n",
    "    unisort_dummy = np.sort(target_X.unique())\n",
    "    unisort_dummy = [(unisort_dummy[i] + unisort_dummy[i+1])/2 for i in range(0, len(unisort_dummy)-1)]\n",
    "    vector_L = Y_tr[target_X < unisort_dummy[int(answer_key[1])]]\n",
    "    vector_R = Y_tr[target_X >= unisort_dummy[int(answer_key[1])]]\n",
    "    Prediction = []\n",
    "    for i in range(len(Y_tst)):\n",
    "        if X_tst.iloc[i, int(answer_key[0])] < unisort_dummy[int(answer_key[1])]:\n",
    "            Y_pred = st.mode(vector_L)\n",
    "        else:\n",
    "            Y_pred = st.mode(vector_R)\n",
    "        Prediction.append(Y_pred)\n",
    "    accuracy_tst = sum(Prediction == Y_tst) / len(Y_tst)\n",
    "    df = pd.DataFrame()\n",
    "    df['Actual'] = Y_tst\n",
    "    df['Prediction'] = Prediction\n",
    "    df['count'] = np.ones(len(Y_tst))\n",
    "    confusion_matrix = pd.pivot_table(df, values='count', index=['Actual'],\n",
    "                                columns=['Prediction'], aggfunc=np.sum, fill_value=0)\n",
    "\n",
    "    sys.stdout = open(out_name,'w')\n",
    "    print(\"Tree Structure (#Class{0}, #Class{1})\".format(\n",
    "        Y_tr.unique()[0], Y_tr.unique()[1]))\n",
    "    print(\"Node 1: X{0} < {1} {2}\".format(\n",
    "        int(answer_key[0]) + 1, unisort_dummy[int(answer_key[1])],\n",
    "        (sum(Y_tr == Y_tr.unique()[0]),sum(Y_tr == Y_tr.unique()[1]))))\n",
    "    print(\"Node 2: {0} {1}\".format(st.mode(vector_L),(sum(vector_L == Y_tr.unique()[0]), sum(vector_L == Y_tr.unique()[1]))))\n",
    "    print(\"Node 3: {0} {1}\".format(st.mode(vector_R),(sum(vector_R == Y_tr.unique()[0]), sum(vector_R == Y_tr.unique()[1]))))\n",
    "    print(\"\\nConfusion Matrix (Test)\\n---------------------------\")\n",
    "    print(confusion_matrix)\n",
    "    print('\\nModel Summary (Test)\\n---------------------------')        \n",
    "    print(\"Overall Accuracy = {}\".format(np.round(accuracy_tst, 3)))"
   ]
  },
  {
   "cell_type": "code",
   "execution_count": 18,
   "metadata": {},
   "outputs": [],
   "source": [
    "My_CART()"
   ]
  }
 ],
 "metadata": {
  "kernelspec": {
   "display_name": "Python 3",
   "language": "python",
   "name": "python3"
  },
  "language_info": {
   "codemirror_mode": {
    "name": "ipython",
    "version": 3
   },
   "file_extension": ".py",
   "mimetype": "text/x-python",
   "name": "python",
   "nbconvert_exporter": "python",
   "pygments_lexer": "ipython3",
   "version": "3.8.8"
  },
  "toc": {
   "base_numbering": 1,
   "nav_menu": {},
   "number_sections": true,
   "sideBar": true,
   "skip_h1_title": false,
   "title_cell": "Table of Contents",
   "title_sidebar": "Contents",
   "toc_cell": false,
   "toc_position": {},
   "toc_section_display": true,
   "toc_window_display": false
  }
 },
 "nbformat": 4,
 "nbformat_minor": 4
}
